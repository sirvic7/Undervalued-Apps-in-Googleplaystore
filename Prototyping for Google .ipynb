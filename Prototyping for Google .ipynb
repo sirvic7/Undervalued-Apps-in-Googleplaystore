{
 "cells": [
  {
   "cell_type": "markdown",
   "id": "c64afb63",
   "metadata": {},
   "source": [
    "**Read the dataset**"
   ]
  },
  {
   "cell_type": "code",
   "execution_count": 23,
   "id": "b06f105b",
   "metadata": {},
   "outputs": [],
   "source": [
    "import pandas as pd\n",
    "playstore = pd.read_csv(\"googleplaystore.csv\")"
   ]
  },
  {
   "cell_type": "code",
   "execution_count": 24,
   "id": "ed76558a",
   "metadata": {},
   "outputs": [
    {
     "name": "stdout",
     "output_type": "stream",
     "text": [
      "<class 'pandas.core.frame.DataFrame'>\n",
      "RangeIndex: 10841 entries, 0 to 10840\n",
      "Data columns (total 13 columns):\n",
      " #   Column          Non-Null Count  Dtype  \n",
      "---  ------          --------------  -----  \n",
      " 0   App             10841 non-null  object \n",
      " 1   Category        10841 non-null  object \n",
      " 2   Rating          9367 non-null   float64\n",
      " 3   Reviews         10841 non-null  object \n",
      " 4   Size            10841 non-null  object \n",
      " 5   Installs        10841 non-null  object \n",
      " 6   Type            10840 non-null  object \n",
      " 7   Price           10841 non-null  object \n",
      " 8   Content Rating  10840 non-null  object \n",
      " 9   Genres          10841 non-null  object \n",
      " 10  Last Updated    10841 non-null  object \n",
      " 11  Current Ver     10833 non-null  object \n",
      " 12  Android Ver     10838 non-null  object \n",
      "dtypes: float64(1), object(12)\n",
      "memory usage: 1.1+ MB\n"
     ]
    }
   ],
   "source": [
    "playstore.info()"
   ]
  },
  {
   "cell_type": "code",
   "execution_count": 25,
   "id": "09662c75",
   "metadata": {
    "scrolled": true
   },
   "outputs": [
    {
     "data": {
      "text/plain": [
       "App               Life Made WI-Fi Touchscreen Photo Frame\n",
       "Category                                              1.9\n",
       "Rating                                               19.0\n",
       "Reviews                                              3.0M\n",
       "Size                                               1,000+\n",
       "Installs                                             Free\n",
       "Type                                                    0\n",
       "Price                                            Everyone\n",
       "Content Rating                                        NaN\n",
       "Genres                                  February 11, 2018\n",
       "Last Updated                                       1.0.19\n",
       "Current Ver                                    4.0 and up\n",
       "Android Ver                                           NaN\n",
       "Name: 10472, dtype: object"
      ]
     },
     "execution_count": 25,
     "metadata": {},
     "output_type": "execute_result"
    }
   ],
   "source": [
    "playstore.loc[10472]"
   ]
  },
  {
   "cell_type": "code",
   "execution_count": 26,
   "id": "9cf576ef",
   "metadata": {},
   "outputs": [],
   "source": [
    "playstore.drop(10472, axis = 0, inplace = True) #since we our goal is to improve the revenue of underpriced app, we don't care about free apps, so we will delete that observation from our database"
   ]
  },
  {
   "cell_type": "code",
   "execution_count": 27,
   "id": "75484fb8",
   "metadata": {
    "scrolled": true
   },
   "outputs": [
    {
     "name": "stdout",
     "output_type": "stream",
     "text": [
      "Varies with device    1695\n",
      "11M                    198\n",
      "12M                    196\n",
      "14M                    194\n",
      "13M                    191\n",
      "                      ... \n",
      "430k                     1\n",
      "429k                     1\n",
      "200k                     1\n",
      "460k                     1\n",
      "619k                     1\n",
      "Name: Size, Length: 461, dtype: int64\n"
     ]
    }
   ],
   "source": [
    "print(playstore['Size'].value_counts())"
   ]
  },
  {
   "cell_type": "code",
   "execution_count": 28,
   "id": "14cfca77",
   "metadata": {},
   "outputs": [
    {
     "name": "stdout",
     "output_type": "stream",
     "text": [
      "0         596\n",
      "1         272\n",
      "2         214\n",
      "3         175\n",
      "4         137\n",
      "         ... \n",
      "4272        1\n",
      "5517        1\n",
      "4057        1\n",
      "459797      1\n",
      "398307      1\n",
      "Name: Reviews, Length: 6001, dtype: int64\n"
     ]
    }
   ],
   "source": [
    "print(playstore['Reviews'].value_counts())"
   ]
  },
  {
   "cell_type": "code",
   "execution_count": 29,
   "id": "81261667",
   "metadata": {},
   "outputs": [
    {
     "name": "stdout",
     "output_type": "stream",
     "text": [
      "0         10040\n",
      "$0.99       148\n",
      "$2.99       129\n",
      "$1.99        73\n",
      "$4.99        72\n",
      "          ...  \n",
      "$19.90        1\n",
      "$1.75         1\n",
      "$14.00        1\n",
      "$4.85         1\n",
      "$1.04         1\n",
      "Name: Price, Length: 92, dtype: int64\n"
     ]
    }
   ],
   "source": [
    "print(playstore['Price'].value_counts())"
   ]
  },
  {
   "cell_type": "markdown",
   "id": "9caa00ab",
   "metadata": {},
   "source": [
    "## Cleaning the Data"
   ]
  },
  {
   "cell_type": "markdown",
   "id": "fb8c5399",
   "metadata": {},
   "source": [
    "**We notice that there are several columns which should have a numeric format but whose type is object. Specifically, Reviews, Size, and Price. For the reviews column haven deleted the above observation earlier, solved the problem. \n",
    "As for size, we will get rid of values like M and K which are SI units for data-size; for price, some of the values have $, so we will get rid of them.**"
   ]
  },
  {
   "cell_type": "code",
   "execution_count": 30,
   "id": "e872365c",
   "metadata": {
    "scrolled": false
   },
   "outputs": [
    {
     "name": "stderr",
     "output_type": "stream",
     "text": [
      "C:\\Users\\user\\AppData\\Local\\Temp\\ipykernel_17348\\3075235603.py:1: FutureWarning: The default value of regex will change from True to False in a future version. In addition, single character regular expressions will *not* be treated as literal strings when regex=True.\n",
      "  playstore[\"Price\"] = playstore[\"Price\"].str.replace(\"$\", \"\").astype(\"float\")  #Removed the $ and converted it to float\n"
     ]
    }
   ],
   "source": [
    "playstore[\"Price\"] = playstore[\"Price\"].str.replace(\"$\", \"\").astype(\"float\")  #Removed the $ and converted it to float"
   ]
  },
  {
   "cell_type": "code",
   "execution_count": 32,
   "id": "7b628ec9",
   "metadata": {},
   "outputs": [],
   "source": [
    "paid_apps = playstore[playstore['Price'] != 0].copy() #Filtered the data to return only paid apps"
   ]
  },
  {
   "cell_type": "code",
   "execution_count": 33,
   "id": "d78710db",
   "metadata": {},
   "outputs": [],
   "source": [
    "paid_apps.drop(\"Type\", axis = 1, inplace=True) #Drop the Type column "
   ]
  },
  {
   "cell_type": "code",
   "execution_count": 34,
   "id": "af2a488d",
   "metadata": {},
   "outputs": [],
   "source": [
    "paid_apps['Reviews'] = paid_apps['Reviews'].astype(\"int\") #convert the review column to interger type"
   ]
  },
  {
   "cell_type": "markdown",
   "id": "844f2f1f",
   "metadata": {},
   "source": [
    "**To clean the size column, i'll create a function that takes in the values of price column as an input and returns a float number representing the price in megabytes.**"
   ]
  },
  {
   "cell_type": "code",
   "execution_count": 35,
   "id": "79ddd016",
   "metadata": {},
   "outputs": [],
   "source": [
    "def clean_size(size):\n",
    "    \"\"\"Convert file size string to float and megabytes\"\"\"\n",
    "    size = size.replace(\"M\",\"\")\n",
    "    if size.endswith(\"k\"):\n",
    "        size = float(size[:-1])/1000\n",
    "    elif size == \"Varies with device\":\n",
    "        size = pd.np.NaN\n",
    "    else:\n",
    "        size = float(size)\n",
    "    return size"
   ]
  },
  {
   "cell_type": "code",
   "execution_count": 36,
   "id": "7b2c9a35",
   "metadata": {},
   "outputs": [
    {
     "name": "stderr",
     "output_type": "stream",
     "text": [
      "C:\\Users\\user\\AppData\\Local\\Temp\\ipykernel_17348\\2432529512.py:7: FutureWarning: The pandas.np module is deprecated and will be removed from pandas in a future version. Import numpy directly instead.\n",
      "  size = pd.np.NaN\n"
     ]
    }
   ],
   "source": [
    "paid_apps['Size'] = paid_apps['Size'].apply(clean_size) #Apply thefunction to the Size column"
   ]
  },
  {
   "cell_type": "code",
   "execution_count": 37,
   "id": "3ce00c5e",
   "metadata": {},
   "outputs": [
    {
     "name": "stdout",
     "output_type": "stream",
     "text": [
      "<class 'pandas.core.frame.DataFrame'>\n",
      "Int64Index: 800 entries, 234 to 10798\n",
      "Data columns (total 12 columns):\n",
      " #   Column          Non-Null Count  Dtype  \n",
      "---  ------          --------------  -----  \n",
      " 0   App             800 non-null    object \n",
      " 1   Category        800 non-null    object \n",
      " 2   Rating          647 non-null    float64\n",
      " 3   Reviews         800 non-null    int32  \n",
      " 4   Size            724 non-null    float64\n",
      " 5   Installs        800 non-null    object \n",
      " 6   Price           800 non-null    float64\n",
      " 7   Content Rating  800 non-null    object \n",
      " 8   Genres          800 non-null    object \n",
      " 9   Last Updated    800 non-null    object \n",
      " 10  Current Ver     798 non-null    object \n",
      " 11  Android Ver     799 non-null    object \n",
      "dtypes: float64(3), int32(1), object(8)\n",
      "memory usage: 78.1+ KB\n"
     ]
    }
   ],
   "source": [
    "paid_apps.info()"
   ]
  },
  {
   "cell_type": "markdown",
   "id": "8bc6b6d9",
   "metadata": {},
   "source": [
    "## Removing Dupplicates."
   ]
  },
  {
   "cell_type": "markdown",
   "id": "c17cc0c2",
   "metadata": {},
   "source": [
    "The following apps Fuzzy Numbers: Pre-K Number Foundation and Toca Life: City, which both appear with the categories EDUCATION and FAMILY categoty have been deemed incorrect by the Database administrator, the FAMILY categoty isn't correct; so we will drop them."
   ]
  },
  {
   "cell_type": "code",
   "execution_count": 40,
   "id": "f159c821",
   "metadata": {},
   "outputs": [
    {
     "data": {
      "text/html": [
       "<div>\n",
       "<style scoped>\n",
       "    .dataframe tbody tr th:only-of-type {\n",
       "        vertical-align: middle;\n",
       "    }\n",
       "\n",
       "    .dataframe tbody tr th {\n",
       "        vertical-align: top;\n",
       "    }\n",
       "\n",
       "    .dataframe thead th {\n",
       "        text-align: right;\n",
       "    }\n",
       "</style>\n",
       "<table border=\"1\" class=\"dataframe\">\n",
       "  <thead>\n",
       "    <tr style=\"text-align: right;\">\n",
       "      <th></th>\n",
       "      <th>App</th>\n",
       "      <th>Category</th>\n",
       "      <th>Rating</th>\n",
       "      <th>Reviews</th>\n",
       "      <th>Size</th>\n",
       "      <th>Installs</th>\n",
       "      <th>Price</th>\n",
       "      <th>Content Rating</th>\n",
       "      <th>Genres</th>\n",
       "      <th>Last Updated</th>\n",
       "      <th>Current Ver</th>\n",
       "      <th>Android Ver</th>\n",
       "    </tr>\n",
       "  </thead>\n",
       "  <tbody>\n",
       "    <tr>\n",
       "      <th>2151</th>\n",
       "      <td>Toca Life: City</td>\n",
       "      <td>FAMILY</td>\n",
       "      <td>4.7</td>\n",
       "      <td>31100</td>\n",
       "      <td>24.0</td>\n",
       "      <td>500,000+</td>\n",
       "      <td>3.99</td>\n",
       "      <td>Everyone</td>\n",
       "      <td>Education;Pretend Play</td>\n",
       "      <td>July 6, 2018</td>\n",
       "      <td>1.5-play</td>\n",
       "      <td>4.4 and up</td>\n",
       "    </tr>\n",
       "    <tr>\n",
       "      <th>4301</th>\n",
       "      <td>Fuzzy Numbers: Pre-K Number Foundation</td>\n",
       "      <td>FAMILY</td>\n",
       "      <td>4.7</td>\n",
       "      <td>21</td>\n",
       "      <td>44.0</td>\n",
       "      <td>1,000+</td>\n",
       "      <td>5.99</td>\n",
       "      <td>Everyone</td>\n",
       "      <td>Education;Education</td>\n",
       "      <td>July 21, 2017</td>\n",
       "      <td>1.3</td>\n",
       "      <td>4.1 and up</td>\n",
       "    </tr>\n",
       "  </tbody>\n",
       "</table>\n",
       "</div>"
      ],
      "text/plain": [
       "                                         App Category  Rating  Reviews  Size  \\\n",
       "2151                         Toca Life: City   FAMILY     4.7    31100  24.0   \n",
       "4301  Fuzzy Numbers: Pre-K Number Foundation   FAMILY     4.7       21  44.0   \n",
       "\n",
       "      Installs  Price Content Rating                  Genres   Last Updated  \\\n",
       "2151  500,000+   3.99       Everyone  Education;Pretend Play   July 6, 2018   \n",
       "4301    1,000+   5.99       Everyone     Education;Education  July 21, 2017   \n",
       "\n",
       "     Current Ver Android Ver  \n",
       "2151    1.5-play  4.4 and up  \n",
       "4301         1.3  4.1 and up  "
      ]
     },
     "execution_count": 40,
     "metadata": {},
     "output_type": "execute_result"
    }
   ],
   "source": [
    "app_mask = paid_apps[\"App\"].isin([\"Fuzzy Numbers: Pre-K Number Foundation\", \"Toca Life: City\"])\n",
    "\n",
    "category_mask = paid_apps[\"Category\"] == \"FAMILY\"\n",
    "\n",
    "paid_apps[app_mask & category_mask]"
   ]
  },
  {
   "cell_type": "markdown",
   "id": "de7037b7",
   "metadata": {},
   "source": [
    "Now that we've identified the labels, we can drop these rows:"
   ]
  },
  {
   "cell_type": "code",
   "execution_count": 41,
   "id": "a5ecb1eb",
   "metadata": {},
   "outputs": [],
   "source": [
    "paid_apps.drop([2151, 4301], inplace=True)"
   ]
  },
  {
   "cell_type": "markdown",
   "id": "82ddf624",
   "metadata": {},
   "source": [
    "**next we will drop duplicates from the data**"
   ]
  },
  {
   "cell_type": "code",
   "execution_count": 43,
   "id": "8670e0ee",
   "metadata": {},
   "outputs": [
    {
     "name": "stdout",
     "output_type": "stream",
     "text": [
      "Number of rows before dropping duplicates: 798\n",
      "Number of rows after dropping duplicates: 763\n"
     ]
    }
   ],
   "source": [
    "print(\"Number of rows before dropping duplicates: {}\".format(paid_apps.shape[0]))\n",
    "paid_apps.drop_duplicates(inplace=True)\n",
    "print(\"Number of rows after dropping duplicates: {}\".format(paid_apps.shape[0]))"
   ]
  },
  {
   "cell_type": "code",
   "execution_count": 47,
   "id": "90a9af20",
   "metadata": {},
   "outputs": [
    {
     "name": "stdout",
     "output_type": "stream",
     "text": [
      "7\n"
     ]
    }
   ],
   "source": [
    "print(paid_apps.duplicated(\"App\").sum())"
   ]
  },
  {
   "cell_type": "markdown",
   "id": "f5a2da7e",
   "metadata": {},
   "source": [
    "next we will drop the duplicates whose number of reviews are not the highest."
   ]
  },
  {
   "cell_type": "code",
   "execution_count": 50,
   "id": "9a2f3a40",
   "metadata": {},
   "outputs": [
    {
     "name": "stdout",
     "output_type": "stream",
     "text": [
      "Number of duplicated Apps after: 0\n"
     ]
    }
   ],
   "source": [
    "paid_apps.sort_values(\"Reviews\", ascending = False, inplace = True) #Sort by the number of reviews in descending order\n",
    "paid_apps.drop_duplicates(subset = \"App\", keep = \"first\", inplace = True)\n",
    "print(\"Number of duplicated Apps after: {}\".format(paid_apps.duplicated(\"App\").sum()))\n",
    "paid_apps.reset_index(drop= True, inplace = True)"
   ]
  },
  {
   "cell_type": "markdown",
   "id": "df549d5a",
   "metadata": {},
   "source": [
    "## Exploring the price"
   ]
  },
  {
   "cell_type": "markdown",
   "id": "a6c4c993",
   "metadata": {},
   "source": [
    "**Haven cleaned the data, it's time to carry out some data exploration.** \n",
    "\n",
    "We need to get to know the price data before contemplating what proxy to use to approximate the concept of undervalued apps."
   ]
  },
  {
   "cell_type": "code",
   "execution_count": 51,
   "id": "ac6d312f",
   "metadata": {},
   "outputs": [
    {
     "data": {
      "text/plain": [
       "array([[<AxesSubplot:title={'center':'Price'}>]], dtype=object)"
      ]
     },
     "execution_count": 51,
     "metadata": {},
     "output_type": "execute_result"
    },
    {
     "data": {
      "image/png": "[encoded data removed]",
      "text/plain": [
       "<Figure size 1200x600 with 1 Axes>"
      ]
     },
     "metadata": {},
     "output_type": "display_data"
    }
   ],
   "source": [
    "paid_apps.hist(column=\"Price\", grid=False, figsize=(12,6))"
   ]
  },
  {
   "cell_type": "markdown",
   "id": "d1e39519",
   "metadata": {},
   "source": [
    "The distributions of prices is heavily skewed to the right and we have a few outliers "
   ]
  },
  {
   "cell_type": "code",
   "execution_count": 53,
   "id": "d2efbf36",
   "metadata": {},
   "outputs": [
    {
     "data": {
      "text/html": [
       "<div>\n",
       "<style scoped>\n",
       "    .dataframe tbody tr th:only-of-type {\n",
       "        vertical-align: middle;\n",
       "    }\n",
       "\n",
       "    .dataframe tbody tr th {\n",
       "        vertical-align: top;\n",
       "    }\n",
       "\n",
       "    .dataframe thead th {\n",
       "        text-align: right;\n",
       "    }\n",
       "</style>\n",
       "<table border=\"1\" class=\"dataframe\">\n",
       "  <thead>\n",
       "    <tr style=\"text-align: right;\">\n",
       "      <th></th>\n",
       "      <th>App</th>\n",
       "      <th>Category</th>\n",
       "      <th>Rating</th>\n",
       "      <th>Reviews</th>\n",
       "      <th>Size</th>\n",
       "      <th>Installs</th>\n",
       "      <th>Price</th>\n",
       "      <th>Content Rating</th>\n",
       "      <th>Genres</th>\n",
       "      <th>Last Updated</th>\n",
       "      <th>Current Ver</th>\n",
       "      <th>Android Ver</th>\n",
       "    </tr>\n",
       "  </thead>\n",
       "  <tbody>\n",
       "    <tr>\n",
       "      <th>277</th>\n",
       "      <td>I'm Rich - Trump Edition</td>\n",
       "      <td>LIFESTYLE</td>\n",
       "      <td>3.6</td>\n",
       "      <td>275</td>\n",
       "      <td>7.3</td>\n",
       "      <td>10,000+</td>\n",
       "      <td>400.00</td>\n",
       "      <td>Everyone</td>\n",
       "      <td>Lifestyle</td>\n",
       "      <td>May 3, 2018</td>\n",
       "      <td>1.0.1</td>\n",
       "      <td>4.1 and up</td>\n",
       "    </tr>\n",
       "    <tr>\n",
       "      <th>207</th>\n",
       "      <td>I am Rich Plus</td>\n",
       "      <td>FAMILY</td>\n",
       "      <td>4.0</td>\n",
       "      <td>856</td>\n",
       "      <td>8.7</td>\n",
       "      <td>10,000+</td>\n",
       "      <td>399.99</td>\n",
       "      <td>Everyone</td>\n",
       "      <td>Entertainment</td>\n",
       "      <td>May 19, 2018</td>\n",
       "      <td>3.0</td>\n",
       "      <td>4.4 and up</td>\n",
       "    </tr>\n",
       "    <tr>\n",
       "      <th>355</th>\n",
       "      <td>I am rich (Most expensive app)</td>\n",
       "      <td>FINANCE</td>\n",
       "      <td>4.1</td>\n",
       "      <td>129</td>\n",
       "      <td>2.7</td>\n",
       "      <td>1,000+</td>\n",
       "      <td>399.99</td>\n",
       "      <td>Teen</td>\n",
       "      <td>Finance</td>\n",
       "      <td>December 6, 2017</td>\n",
       "      <td>2</td>\n",
       "      <td>4.0.3 and up</td>\n",
       "    </tr>\n",
       "    <tr>\n",
       "      <th>371</th>\n",
       "      <td>I am Rich!</td>\n",
       "      <td>FINANCE</td>\n",
       "      <td>3.8</td>\n",
       "      <td>93</td>\n",
       "      <td>22.0</td>\n",
       "      <td>1,000+</td>\n",
       "      <td>399.99</td>\n",
       "      <td>Everyone</td>\n",
       "      <td>Finance</td>\n",
       "      <td>December 11, 2017</td>\n",
       "      <td>1.0</td>\n",
       "      <td>4.1 and up</td>\n",
       "    </tr>\n",
       "    <tr>\n",
       "      <th>155</th>\n",
       "      <td>I Am Rich Premium</td>\n",
       "      <td>FINANCE</td>\n",
       "      <td>4.1</td>\n",
       "      <td>1867</td>\n",
       "      <td>4.7</td>\n",
       "      <td>50,000+</td>\n",
       "      <td>399.99</td>\n",
       "      <td>Everyone</td>\n",
       "      <td>Finance</td>\n",
       "      <td>November 12, 2017</td>\n",
       "      <td>1.6</td>\n",
       "      <td>4.0 and up</td>\n",
       "    </tr>\n",
       "    <tr>\n",
       "      <th>314</th>\n",
       "      <td>I am Rich</td>\n",
       "      <td>FINANCE</td>\n",
       "      <td>4.3</td>\n",
       "      <td>180</td>\n",
       "      <td>3.8</td>\n",
       "      <td>5,000+</td>\n",
       "      <td>399.99</td>\n",
       "      <td>Everyone</td>\n",
       "      <td>Finance</td>\n",
       "      <td>March 22, 2018</td>\n",
       "      <td>1.0</td>\n",
       "      <td>4.2 and up</td>\n",
       "    </tr>\n",
       "    <tr>\n",
       "      <th>307</th>\n",
       "      <td>I Am Rich Pro</td>\n",
       "      <td>FAMILY</td>\n",
       "      <td>4.4</td>\n",
       "      <td>201</td>\n",
       "      <td>2.7</td>\n",
       "      <td>5,000+</td>\n",
       "      <td>399.99</td>\n",
       "      <td>Everyone</td>\n",
       "      <td>Entertainment</td>\n",
       "      <td>May 30, 2017</td>\n",
       "      <td>1.54</td>\n",
       "      <td>1.6 and up</td>\n",
       "    </tr>\n",
       "    <tr>\n",
       "      <th>125</th>\n",
       "      <td>I am rich</td>\n",
       "      <td>LIFESTYLE</td>\n",
       "      <td>3.8</td>\n",
       "      <td>3547</td>\n",
       "      <td>1.8</td>\n",
       "      <td>100,000+</td>\n",
       "      <td>399.99</td>\n",
       "      <td>Everyone</td>\n",
       "      <td>Lifestyle</td>\n",
       "      <td>January 12, 2018</td>\n",
       "      <td>2.0</td>\n",
       "      <td>4.0.3 and up</td>\n",
       "    </tr>\n",
       "    <tr>\n",
       "      <th>442</th>\n",
       "      <td>I AM RICH PRO PLUS</td>\n",
       "      <td>FINANCE</td>\n",
       "      <td>4.0</td>\n",
       "      <td>36</td>\n",
       "      <td>41.0</td>\n",
       "      <td>1,000+</td>\n",
       "      <td>399.99</td>\n",
       "      <td>Everyone</td>\n",
       "      <td>Finance</td>\n",
       "      <td>June 25, 2018</td>\n",
       "      <td>1.0.2</td>\n",
       "      <td>4.1 and up</td>\n",
       "    </tr>\n",
       "    <tr>\n",
       "      <th>563</th>\n",
       "      <td>most expensive app (H)</td>\n",
       "      <td>FAMILY</td>\n",
       "      <td>4.3</td>\n",
       "      <td>6</td>\n",
       "      <td>1.5</td>\n",
       "      <td>100+</td>\n",
       "      <td>399.99</td>\n",
       "      <td>Everyone</td>\n",
       "      <td>Entertainment</td>\n",
       "      <td>July 16, 2018</td>\n",
       "      <td>1.0</td>\n",
       "      <td>7.0 and up</td>\n",
       "    </tr>\n",
       "  </tbody>\n",
       "</table>\n",
       "</div>"
      ],
      "text/plain": [
       "                                App   Category  Rating  Reviews  Size  \\\n",
       "277        I'm Rich - Trump Edition  LIFESTYLE     3.6      275   7.3   \n",
       "207                  I am Rich Plus     FAMILY     4.0      856   8.7   \n",
       "355  I am rich (Most expensive app)    FINANCE     4.1      129   2.7   \n",
       "371                      I am Rich!    FINANCE     3.8       93  22.0   \n",
       "155               I Am Rich Premium    FINANCE     4.1     1867   4.7   \n",
       "314                       I am Rich    FINANCE     4.3      180   3.8   \n",
       "307                   I Am Rich Pro     FAMILY     4.4      201   2.7   \n",
       "125                       I am rich  LIFESTYLE     3.8     3547   1.8   \n",
       "442              I AM RICH PRO PLUS    FINANCE     4.0       36  41.0   \n",
       "563          most expensive app (H)     FAMILY     4.3        6   1.5   \n",
       "\n",
       "     Installs   Price Content Rating         Genres       Last Updated  \\\n",
       "277   10,000+  400.00       Everyone      Lifestyle        May 3, 2018   \n",
       "207   10,000+  399.99       Everyone  Entertainment       May 19, 2018   \n",
       "355    1,000+  399.99           Teen        Finance   December 6, 2017   \n",
       "371    1,000+  399.99       Everyone        Finance  December 11, 2017   \n",
       "155   50,000+  399.99       Everyone        Finance  November 12, 2017   \n",
       "314    5,000+  399.99       Everyone        Finance     March 22, 2018   \n",
       "307    5,000+  399.99       Everyone  Entertainment       May 30, 2017   \n",
       "125  100,000+  399.99       Everyone      Lifestyle   January 12, 2018   \n",
       "442    1,000+  399.99       Everyone        Finance      June 25, 2018   \n",
       "563      100+  399.99       Everyone  Entertainment      July 16, 2018   \n",
       "\n",
       "    Current Ver   Android Ver  \n",
       "277       1.0.1    4.1 and up  \n",
       "207         3.0    4.4 and up  \n",
       "355           2  4.0.3 and up  \n",
       "371         1.0    4.1 and up  \n",
       "155         1.6    4.0 and up  \n",
       "314         1.0    4.2 and up  \n",
       "307        1.54    1.6 and up  \n",
       "125         2.0  4.0.3 and up  \n",
       "442       1.0.2    4.1 and up  \n",
       "563         1.0    7.0 and up  "
      ]
     },
     "execution_count": 53,
     "metadata": {},
     "output_type": "execute_result"
    }
   ],
   "source": [
    "paid_apps.sort_values(\"Price\", ascending=False).head(10)"
   ]
  },
  {
   "cell_type": "markdown",
   "id": "c7728ed4",
   "metadata": {},
   "source": [
    "**It's clear that the vast majority of apps have a price significantly below $50, and given how very niche and disparate the prices are from the others. They won't be included in our analysis.**"
   ]
  },
  {
   "cell_type": "code",
   "execution_count": 55,
   "id": "75931507",
   "metadata": {},
   "outputs": [
    {
     "data": {
      "text/plain": [
       "array([[<AxesSubplot:title={'center':'Price'}>]], dtype=object)"
      ]
     },
     "execution_count": 55,
     "metadata": {},
     "output_type": "execute_result"
    },
    {
     "data": {
      "image/png": "[encoded data removed]",
      "text/plain": [
       "<Figure size 1200x600 with 1 Axes>"
      ]
     },
     "metadata": {},
     "output_type": "display_data"
    }
   ],
   "source": [
    "affordable_apps = paid_apps[paid_apps[\"Price\"]<50].copy()\n",
    "affordable_apps.hist(column=\"Price\", grid=False, figsize=(12,6))"
   ]
  },
  {
   "cell_type": "markdown",
   "id": "1e03799f",
   "metadata": {},
   "source": [
    "Even though we got rid of the outliers, it is still quite skewed. Its clear that apps costing less $5 account for most of the purchases, Let's explore these differences."
   ]
  },
  {
   "cell_type": "code",
   "execution_count": 58,
   "id": "bea3556f",
   "metadata": {},
   "outputs": [
    {
     "data": {
      "image/png": "[encoded data removed]",
      "text/plain": [
       "<Figure size 1200x600 with 1 Axes>"
      ]
     },
     "metadata": {},
     "output_type": "display_data"
    },
    {
     "data": {
      "image/png": "[encoded data removed]",
      "text/plain": [
       "<Figure size 1200x600 with 1 Axes>"
      ]
     },
     "metadata": {},
     "output_type": "display_data"
    }
   ],
   "source": [
    "cheap = affordable_apps[\"Price\"] < 5\n",
    "reasonable = affordable_apps[\"Price\"] >= 5\n",
    "affordable_apps[cheap].hist(column = \"Price\", grid = False, figsize = (12,6))\n",
    "affordable_apps[reasonable].hist(column = \"Price\", grid = False, figsize = (12,6))\n",
    "affordable_apps['affordability'] = affordable_apps['Price'].apply(lambda x: 'cheap' if x < 5 else 'reasonable')"
   ]
  },
  {
   "cell_type": "markdown",
   "id": "5415e271",
   "metadata": {},
   "source": [
    "we can see that the reasonable apps are still somewhat skewed, although much less so than the dataset as a whole"
   ]
  },
  {
   "cell_type": "markdown",
   "id": "0a78b5e0",
   "metadata": {},
   "source": [
    "**Having visualized the price behavior by itself, it's time to compare it to the other columns. Let's start by visualizing how price relates to rating, to see if there's any correlation**"
   ]
  },
  {
   "cell_type": "markdown",
   "id": "f63ecfc7",
   "metadata": {},
   "source": [
    "## Price vs. Rating"
   ]
  },
  {
   "cell_type": "code",
   "execution_count": 59,
   "id": "891caa0d",
   "metadata": {},
   "outputs": [
    {
     "data": {
      "text/plain": [
       "<AxesSubplot:xlabel='Price', ylabel='Rating'>"
      ]
     },
     "execution_count": 59,
     "metadata": {},
     "output_type": "execute_result"
    },
    {
     "data": {
      "image/png": "[encoded data removed]",
      "text/plain": [
       "<Figure size 640x480 with 1 Axes>"
      ]
     },
     "metadata": {},
     "output_type": "display_data"
    }
   ],
   "source": [
    "affordable_apps[cheap].plot(kind=\"scatter\", x=\"Price\", y=\"Rating\")"
   ]
  },
  {
   "cell_type": "code",
   "execution_count": 60,
   "id": "b1a80e31",
   "metadata": {},
   "outputs": [
    {
     "name": "stdout",
     "output_type": "stream",
     "text": [
      "-0.055937715054631215\n"
     ]
    }
   ],
   "source": [
    "print(affordable_apps[cheap].corr().loc[\"Rating\", \"Price\"])"
   ]
  },
  {
   "cell_type": "markdown",
   "id": "1e05c5ef",
   "metadata": {},
   "source": [
    "we see that there doesn't seem to be any clear relation between price and rating for the cheap apps."
   ]
  },
  {
   "cell_type": "markdown",
   "id": "9f70e6fb",
   "metadata": {},
   "source": [
    "**it suggests that we can change prices without it being reflected in the apps' rating.**"
   ]
  },
  {
   "cell_type": "markdown",
   "id": "f779035d",
   "metadata": {},
   "source": [
    "lets take a look at the relationshio between affordable_apps[reasonable] price and rating"
   ]
  },
  {
   "cell_type": "code",
   "execution_count": 61,
   "id": "1c22523c",
   "metadata": {},
   "outputs": [
    {
     "data": {
      "text/plain": [
       "<AxesSubplot:xlabel='Price', ylabel='Rating'>"
      ]
     },
     "execution_count": 61,
     "metadata": {},
     "output_type": "execute_result"
    },
    {
     "data": {
      "image/png": "[encoded data removed]",
      "text/plain": [
       "<Figure size 640x480 with 1 Axes>"
      ]
     },
     "metadata": {},
     "output_type": "display_data"
    }
   ],
   "source": [
    "affordable_apps[reasonable].plot(kind=\"scatter\", x=\"Price\", y=\"Rating\")"
   ]
  },
  {
   "cell_type": "code",
   "execution_count": 62,
   "id": "325e7c0e",
   "metadata": {},
   "outputs": [
    {
     "name": "stdout",
     "output_type": "stream",
     "text": [
      "-0.04860964708513042\n"
     ]
    }
   ],
   "source": [
    "print(affordable_apps[reasonable].corr().loc[\"Rating\", \"Price\"])"
   ]
  },
  {
   "cell_type": "markdown",
   "id": "e87078d2",
   "metadata": {},
   "source": [
    "**we can also conclude that for reasonable apps, there's also no correlation between price and rating, next we will find the average price of both cheap and reasonable price and use those figures to do some data transformation on the affordable apps data.**"
   ]
  },
  {
   "cell_type": "code",
   "execution_count": 63,
   "id": "07c5e911",
   "metadata": {},
   "outputs": [],
   "source": [
    "cheap = affordable_apps[\"Price\"] < 5\n",
    "reasonable = affordable_apps[\"Price\"] >= 5\n",
    "cheap_mean = affordable_apps.loc[cheap,'Price'].mean()\n",
    "affordable_apps.loc[cheap, \"price_criterion\"] = affordable_apps['Price'].apply(lambda x: 1 if x < cheap_mean else 0)\n",
    "reasonable_mean = affordable_apps.loc[reasonable, 'Price'].mean()\n",
    "affordable_apps.loc[reasonable, \"price_criterion\"] = affordable_apps['Price'].apply(lambda x: 1 if x < reasonable_mean else 0)"
   ]
  },
  {
   "cell_type": "markdown",
   "id": "01ef1075",
   "metadata": {},
   "source": [
    "For only the cheap apps, create a column in affordable_apps called price_criterion that takes the value 1 when the app's price is lower than cheap_mean, and 0 otherwise. same thing we did for the reasonable apps."
   ]
  },
  {
   "cell_type": "code",
   "execution_count": 64,
   "id": "aca8ae8b",
   "metadata": {},
   "outputs": [
    {
     "data": {
      "text/plain": [
       "cheap         596\n",
       "reasonable    137\n",
       "Name: affordability, dtype: int64"
      ]
     },
     "execution_count": 64,
     "metadata": {},
     "output_type": "execute_result"
    }
   ],
   "source": [
    "affordable_apps['affordability'].value_counts()"
   ]
  },
  {
   "cell_type": "markdown",
   "id": "62a36e20",
   "metadata": {},
   "source": [
    "## Price VS Category and Genres"
   ]
  },
  {
   "cell_type": "markdown",
   "id": "a3cca447",
   "metadata": {},
   "source": [
    "**In the interest of getting some quick results for our prototype, we'll now focus on the categories and genres, leaving other features for another time.**"
   ]
  },
  {
   "cell_type": "code",
   "execution_count": 68,
   "id": "e0667fbb",
   "metadata": {},
   "outputs": [
    {
     "data": {
      "text/plain": [
       "array(['Arcade;Action & Adventure', 'Action', 'Strategy',\n",
       "       'Puzzle;Brain Games', 'Card;Action & Adventure', 'Sports',\n",
       "       'Personalization', 'Arcade', 'Puzzle', 'Productivity', 'Weather',\n",
       "       'Tools', 'Sports;Action & Adventure', 'Communication',\n",
       "       'Role Playing', 'Photography', 'Card', 'Simulation;Education',\n",
       "       'Adventure', 'Education;Pretend Play', 'Lifestyle',\n",
       "       'Strategy;Action & Adventure', 'Board', 'Finance',\n",
       "       'Health & Fitness', 'Role Playing;Action & Adventure', 'Music',\n",
       "       'Travel & Local', 'Business', 'Simulation',\n",
       "       'Adventure;Action & Adventure', 'Parenting',\n",
       "       'Adventure;Brain Games', 'Entertainment', 'Maps & Navigation',\n",
       "       'Video Players & Editors', 'Racing', 'Medical', 'Auto & Vehicles',\n",
       "       'Educational;Pretend Play', 'Casual;Pretend Play',\n",
       "       'Education;Creativity', 'Education', 'Board;Brain Games',\n",
       "       'Food & Drink', 'Action;Action & Adventure',\n",
       "       'Simulation;Pretend Play', 'Dating', 'Books & Reference',\n",
       "       'Art & Design', 'Racing;Action & Adventure', 'Casual',\n",
       "       'Education;Education', 'Educational;Education', 'Casual;Education',\n",
       "       'Shopping', 'Books & Reference;Education',\n",
       "       'Education;Action & Adventure', 'Board;Action & Adventure',\n",
       "       'Social', 'Casual;Action & Adventure', 'News & Magazines',\n",
       "       'Music;Music & Video', 'Educational;Creativity', 'Casino',\n",
       "       'Educational', 'Books & Reference;Creativity',\n",
       "       'Board;Pretend Play', 'Libraries & Demo', 'Education;Brain Games',\n",
       "       'Role Playing;Education'], dtype=object)"
      ]
     },
     "execution_count": 68,
     "metadata": {},
     "output_type": "execute_result"
    }
   ],
   "source": [
    "affordable_apps['Genres'].unique()"
   ]
  },
  {
   "cell_type": "code",
   "execution_count": 67,
   "id": "16b038f9",
   "metadata": {},
   "outputs": [
    {
     "data": {
      "text/plain": [
       "array(['FAMILY', 'GAME', 'SPORTS', 'PERSONALIZATION', 'PRODUCTIVITY',\n",
       "       'WEATHER', 'TOOLS', 'COMMUNICATION', 'PHOTOGRAPHY', 'EDUCATION',\n",
       "       'LIFESTYLE', 'FINANCE', 'HEALTH_AND_FITNESS', 'TRAVEL_AND_LOCAL',\n",
       "       'BUSINESS', 'PARENTING', 'ENTERTAINMENT', 'MAPS_AND_NAVIGATION',\n",
       "       'VIDEO_PLAYERS', 'MEDICAL', 'AUTO_AND_VEHICLES', 'FOOD_AND_DRINK',\n",
       "       'DATING', 'BOOKS_AND_REFERENCE', 'ART_AND_DESIGN', 'SHOPPING',\n",
       "       'SOCIAL', 'NEWS_AND_MAGAZINES', 'LIBRARIES_AND_DEMO'], dtype=object)"
      ]
     },
     "execution_count": 67,
     "metadata": {},
     "output_type": "execute_result"
    }
   ],
   "source": [
    "affordable_apps[\"Category\"].unique()"
   ]
  },
  {
   "cell_type": "markdown",
   "id": "0fdd2108",
   "metadata": {},
   "source": [
    "Looking at the unique values of the Genre's column, we see that multiple genres are separated by ;, Let's create a column that counts the number of genres to which each app belongs. those with ';' will have a value of 2 and those without will have 1."
   ]
  },
  {
   "cell_type": "code",
   "execution_count": 69,
   "id": "e6e6b3ea",
   "metadata": {},
   "outputs": [],
   "source": [
    "affordable_apps[\"genre_count\"] = affordable_apps[\"Genres\"].str.count(\";\")+1"
   ]
  },
  {
   "cell_type": "code",
   "execution_count": 71,
   "id": "88afe061",
   "metadata": {},
   "outputs": [
    {
     "data": {
      "text/plain": [
       "1    663\n",
       "2     70\n",
       "Name: genre_count, dtype: int64"
      ]
     },
     "execution_count": 71,
     "metadata": {},
     "output_type": "execute_result"
    }
   ],
   "source": [
    "affordable_apps[\"genre_count\"].value_counts()"
   ]
  },
  {
   "cell_type": "markdown",
   "id": "07c78d20",
   "metadata": {},
   "source": [
    "**Let's now see how the mean price varies across the number of genres.**"
   ]
  },
  {
   "cell_type": "code",
   "execution_count": 72,
   "id": "6b421adb",
   "metadata": {},
   "outputs": [
    {
     "data": {
      "text/html": [
       "<div>\n",
       "<style scoped>\n",
       "    .dataframe tbody tr th:only-of-type {\n",
       "        vertical-align: middle;\n",
       "    }\n",
       "\n",
       "    .dataframe tbody tr th {\n",
       "        vertical-align: top;\n",
       "    }\n",
       "\n",
       "    .dataframe thead th {\n",
       "        text-align: right;\n",
       "    }\n",
       "</style>\n",
       "<table border=\"1\" class=\"dataframe\">\n",
       "  <thead>\n",
       "    <tr style=\"text-align: right;\">\n",
       "      <th></th>\n",
       "      <th></th>\n",
       "      <th>Price</th>\n",
       "    </tr>\n",
       "    <tr>\n",
       "      <th>affordability</th>\n",
       "      <th>genre_count</th>\n",
       "      <th></th>\n",
       "    </tr>\n",
       "  </thead>\n",
       "  <tbody>\n",
       "    <tr>\n",
       "      <th rowspan=\"2\" valign=\"top\">cheap</th>\n",
       "      <th>1</th>\n",
       "      <td>2.507448</td>\n",
       "    </tr>\n",
       "    <tr>\n",
       "      <th>2</th>\n",
       "      <td>3.155672</td>\n",
       "    </tr>\n",
       "    <tr>\n",
       "      <th rowspan=\"2\" valign=\"top\">reasonable</th>\n",
       "      <th>1</th>\n",
       "      <td>12.574627</td>\n",
       "    </tr>\n",
       "    <tr>\n",
       "      <th>2</th>\n",
       "      <td>6.823333</td>\n",
       "    </tr>\n",
       "  </tbody>\n",
       "</table>\n",
       "</div>"
      ],
      "text/plain": [
       "                               Price\n",
       "affordability genre_count           \n",
       "cheap         1             2.507448\n",
       "              2             3.155672\n",
       "reasonable    1            12.574627\n",
       "              2             6.823333"
      ]
     },
     "execution_count": 72,
     "metadata": {},
     "output_type": "execute_result"
    }
   ],
   "source": [
    "genres_mean = affordable_apps.groupby(\n",
    "    [\"affordability\", \"genre_count\"]\n",
    ").mean()[[\"Price\"]]\n",
    "genres_mean"
   ]
  },
  {
   "cell_type": "markdown",
   "id": "2744a64a",
   "metadata": {},
   "source": [
    "surprisingly, apps that belong to two genres are more expensive among the cheap apps and cheaper among the reasonable apps"
   ]
  },
  {
   "cell_type": "markdown",
   "id": "cb677c99",
   "metadata": {},
   "source": [
    "**For each segment, let's label the apps that cost less than their corresponding segments' mean with 1, and the others with 0, we will create a funcion to do this and apply it to our affordable_app dataframe**"
   ]
  },
  {
   "cell_type": "code",
   "execution_count": 73,
   "id": "a2d610ff",
   "metadata": {},
   "outputs": [],
   "source": [
    "def label_genres(row):\n",
    "    \"\"\"For each segment in `genres_mean`,\n",
    "    labels the apps that cost less than its segment's mean with `1`\n",
    "    and the others with `0`.\"\"\"\n",
    "\n",
    "    aff = row[\"affordability\"]\n",
    "    gc = row[\"genre_count\"]\n",
    "    price = row[\"Price\"]\n",
    "\n",
    "    if price < genres_mean.loc[(aff, gc)][0]:\n",
    "        return 1\n",
    "    else:\n",
    "        return 0\n",
    "\n",
    "affordable_apps[\"genre_criterion\"] = affordable_apps.apply(\n",
    "    label_genres, axis=\"columns\"\n",
    ")"
   ]
  },
  {
   "cell_type": "markdown",
   "id": "6da67eb3",
   "metadata": {},
   "source": [
    "**Next we will carry out the same the same procedure for Category as we did for genre_count.**"
   ]
  },
  {
   "cell_type": "code",
   "execution_count": 75,
   "id": "4ce4c07b",
   "metadata": {},
   "outputs": [
    {
     "data": {
      "text/html": [
       "<div>\n",
       "<style scoped>\n",
       "    .dataframe tbody tr th:only-of-type {\n",
       "        vertical-align: middle;\n",
       "    }\n",
       "\n",
       "    .dataframe tbody tr th {\n",
       "        vertical-align: top;\n",
       "    }\n",
       "\n",
       "    .dataframe thead th {\n",
       "        text-align: right;\n",
       "    }\n",
       "</style>\n",
       "<table border=\"1\" class=\"dataframe\">\n",
       "  <thead>\n",
       "    <tr style=\"text-align: right;\">\n",
       "      <th></th>\n",
       "      <th></th>\n",
       "      <th>Price</th>\n",
       "    </tr>\n",
       "    <tr>\n",
       "      <th>affordability</th>\n",
       "      <th>Category</th>\n",
       "      <th></th>\n",
       "    </tr>\n",
       "  </thead>\n",
       "  <tbody>\n",
       "    <tr>\n",
       "      <th rowspan=\"29\" valign=\"top\">cheap</th>\n",
       "      <th>ART_AND_DESIGN</th>\n",
       "      <td>1.990000</td>\n",
       "    </tr>\n",
       "    <tr>\n",
       "      <th>AUTO_AND_VEHICLES</th>\n",
       "      <td>1.740000</td>\n",
       "    </tr>\n",
       "    <tr>\n",
       "      <th>BOOKS_AND_REFERENCE</th>\n",
       "      <td>2.529286</td>\n",
       "    </tr>\n",
       "    <tr>\n",
       "      <th>BUSINESS</th>\n",
       "      <td>3.632857</td>\n",
       "    </tr>\n",
       "    <tr>\n",
       "      <th>COMMUNICATION</th>\n",
       "      <td>2.428846</td>\n",
       "    </tr>\n",
       "    <tr>\n",
       "      <th>DATING</th>\n",
       "      <td>3.115000</td>\n",
       "    </tr>\n",
       "    <tr>\n",
       "      <th>EDUCATION</th>\n",
       "      <td>3.990000</td>\n",
       "    </tr>\n",
       "    <tr>\n",
       "      <th>ENTERTAINMENT</th>\n",
       "      <td>3.990000</td>\n",
       "    </tr>\n",
       "    <tr>\n",
       "      <th>FAMILY</th>\n",
       "      <td>2.754740</td>\n",
       "    </tr>\n",
       "    <tr>\n",
       "      <th>FINANCE</th>\n",
       "      <td>3.490000</td>\n",
       "    </tr>\n",
       "    <tr>\n",
       "      <th>FOOD_AND_DRINK</th>\n",
       "      <td>4.240000</td>\n",
       "    </tr>\n",
       "    <tr>\n",
       "      <th>GAME</th>\n",
       "      <td>2.547222</td>\n",
       "    </tr>\n",
       "    <tr>\n",
       "      <th>HEALTH_AND_FITNESS</th>\n",
       "      <td>3.035455</td>\n",
       "    </tr>\n",
       "    <tr>\n",
       "      <th>LIBRARIES_AND_DEMO</th>\n",
       "      <td>0.990000</td>\n",
       "    </tr>\n",
       "    <tr>\n",
       "      <th>LIFESTYLE</th>\n",
       "      <td>2.895000</td>\n",
       "    </tr>\n",
       "    <tr>\n",
       "      <th>MAPS_AND_NAVIGATION</th>\n",
       "      <td>1.656667</td>\n",
       "    </tr>\n",
       "    <tr>\n",
       "      <th>MEDICAL</th>\n",
       "      <td>2.764286</td>\n",
       "    </tr>\n",
       "    <tr>\n",
       "      <th>NEWS_AND_MAGAZINES</th>\n",
       "      <td>1.990000</td>\n",
       "    </tr>\n",
       "    <tr>\n",
       "      <th>PARENTING</th>\n",
       "      <td>4.790000</td>\n",
       "    </tr>\n",
       "    <tr>\n",
       "      <th>PERSONALIZATION</th>\n",
       "      <td>1.689873</td>\n",
       "    </tr>\n",
       "    <tr>\n",
       "      <th>PHOTOGRAPHY</th>\n",
       "      <td>3.023571</td>\n",
       "    </tr>\n",
       "    <tr>\n",
       "      <th>PRODUCTIVITY</th>\n",
       "      <td>2.635909</td>\n",
       "    </tr>\n",
       "    <tr>\n",
       "      <th>SHOPPING</th>\n",
       "      <td>2.740000</td>\n",
       "    </tr>\n",
       "    <tr>\n",
       "      <th>SOCIAL</th>\n",
       "      <td>0.990000</td>\n",
       "    </tr>\n",
       "    <tr>\n",
       "      <th>SPORTS</th>\n",
       "      <td>2.773636</td>\n",
       "    </tr>\n",
       "    <tr>\n",
       "      <th>TOOLS</th>\n",
       "      <td>2.596056</td>\n",
       "    </tr>\n",
       "    <tr>\n",
       "      <th>TRAVEL_AND_LOCAL</th>\n",
       "      <td>2.942222</td>\n",
       "    </tr>\n",
       "    <tr>\n",
       "      <th>VIDEO_PLAYERS</th>\n",
       "      <td>1.490000</td>\n",
       "    </tr>\n",
       "    <tr>\n",
       "      <th>WEATHER</th>\n",
       "      <td>3.240000</td>\n",
       "    </tr>\n",
       "    <tr>\n",
       "      <th rowspan=\"22\" valign=\"top\">reasonable</th>\n",
       "      <th>AUTO_AND_VEHICLES</th>\n",
       "      <td>9.990000</td>\n",
       "    </tr>\n",
       "    <tr>\n",
       "      <th>BOOKS_AND_REFERENCE</th>\n",
       "      <td>6.025714</td>\n",
       "    </tr>\n",
       "    <tr>\n",
       "      <th>BUSINESS</th>\n",
       "      <td>14.967500</td>\n",
       "    </tr>\n",
       "    <tr>\n",
       "      <th>COMMUNICATION</th>\n",
       "      <td>19.990000</td>\n",
       "    </tr>\n",
       "    <tr>\n",
       "      <th>DATING</th>\n",
       "      <td>7.490000</td>\n",
       "    </tr>\n",
       "    <tr>\n",
       "      <th>EDUCATION</th>\n",
       "      <td>5.990000</td>\n",
       "    </tr>\n",
       "    <tr>\n",
       "      <th>FAMILY</th>\n",
       "      <td>15.426800</td>\n",
       "    </tr>\n",
       "    <tr>\n",
       "      <th>FINANCE</th>\n",
       "      <td>21.240000</td>\n",
       "    </tr>\n",
       "    <tr>\n",
       "      <th>GAME</th>\n",
       "      <td>10.091000</td>\n",
       "    </tr>\n",
       "    <tr>\n",
       "      <th>HEALTH_AND_FITNESS</th>\n",
       "      <td>7.740000</td>\n",
       "    </tr>\n",
       "    <tr>\n",
       "      <th>LIFESTYLE</th>\n",
       "      <td>17.323333</td>\n",
       "    </tr>\n",
       "    <tr>\n",
       "      <th>MAPS_AND_NAVIGATION</th>\n",
       "      <td>10.990000</td>\n",
       "    </tr>\n",
       "    <tr>\n",
       "      <th>MEDICAL</th>\n",
       "      <td>13.805789</td>\n",
       "    </tr>\n",
       "    <tr>\n",
       "      <th>PERSONALIZATION</th>\n",
       "      <td>8.490000</td>\n",
       "    </tr>\n",
       "    <tr>\n",
       "      <th>PHOTOGRAPHY</th>\n",
       "      <td>15.190000</td>\n",
       "    </tr>\n",
       "    <tr>\n",
       "      <th>PRODUCTIVITY</th>\n",
       "      <td>7.590000</td>\n",
       "    </tr>\n",
       "    <tr>\n",
       "      <th>SOCIAL</th>\n",
       "      <td>13.990000</td>\n",
       "    </tr>\n",
       "    <tr>\n",
       "      <th>SPORTS</th>\n",
       "      <td>19.490000</td>\n",
       "    </tr>\n",
       "    <tr>\n",
       "      <th>TOOLS</th>\n",
       "      <td>11.847143</td>\n",
       "    </tr>\n",
       "    <tr>\n",
       "      <th>TRAVEL_AND_LOCAL</th>\n",
       "      <td>7.823333</td>\n",
       "    </tr>\n",
       "    <tr>\n",
       "      <th>VIDEO_PLAYERS</th>\n",
       "      <td>5.990000</td>\n",
       "    </tr>\n",
       "    <tr>\n",
       "      <th>WEATHER</th>\n",
       "      <td>6.490000</td>\n",
       "    </tr>\n",
       "  </tbody>\n",
       "</table>\n",
       "</div>"
      ],
      "text/plain": [
       "                                       Price\n",
       "affordability Category                      \n",
       "cheap         ART_AND_DESIGN        1.990000\n",
       "              AUTO_AND_VEHICLES     1.740000\n",
       "              BOOKS_AND_REFERENCE   2.529286\n",
       "              BUSINESS              3.632857\n",
       "              COMMUNICATION         2.428846\n",
       "              DATING                3.115000\n",
       "              EDUCATION             3.990000\n",
       "              ENTERTAINMENT         3.990000\n",
       "              FAMILY                2.754740\n",
       "              FINANCE               3.490000\n",
       "              FOOD_AND_DRINK        4.240000\n",
       "              GAME                  2.547222\n",
       "              HEALTH_AND_FITNESS    3.035455\n",
       "              LIBRARIES_AND_DEMO    0.990000\n",
       "              LIFESTYLE             2.895000\n",
       "              MAPS_AND_NAVIGATION   1.656667\n",
       "              MEDICAL               2.764286\n",
       "              NEWS_AND_MAGAZINES    1.990000\n",
       "              PARENTING             4.790000\n",
       "              PERSONALIZATION       1.689873\n",
       "              PHOTOGRAPHY           3.023571\n",
       "              PRODUCTIVITY          2.635909\n",
       "              SHOPPING              2.740000\n",
       "              SOCIAL                0.990000\n",
       "              SPORTS                2.773636\n",
       "              TOOLS                 2.596056\n",
       "              TRAVEL_AND_LOCAL      2.942222\n",
       "              VIDEO_PLAYERS         1.490000\n",
       "              WEATHER               3.240000\n",
       "reasonable    AUTO_AND_VEHICLES     9.990000\n",
       "              BOOKS_AND_REFERENCE   6.025714\n",
       "              BUSINESS             14.967500\n",
       "              COMMUNICATION        19.990000\n",
       "              DATING                7.490000\n",
       "              EDUCATION             5.990000\n",
       "              FAMILY               15.426800\n",
       "              FINANCE              21.240000\n",
       "              GAME                 10.091000\n",
       "              HEALTH_AND_FITNESS    7.740000\n",
       "              LIFESTYLE            17.323333\n",
       "              MAPS_AND_NAVIGATION  10.990000\n",
       "              MEDICAL              13.805789\n",
       "              PERSONALIZATION       8.490000\n",
       "              PHOTOGRAPHY          15.190000\n",
       "              PRODUCTIVITY          7.590000\n",
       "              SOCIAL               13.990000\n",
       "              SPORTS               19.490000\n",
       "              TOOLS                11.847143\n",
       "              TRAVEL_AND_LOCAL      7.823333\n",
       "              VIDEO_PLAYERS         5.990000\n",
       "              WEATHER               6.490000"
      ]
     },
     "execution_count": 75,
     "metadata": {},
     "output_type": "execute_result"
    }
   ],
   "source": [
    "category_mean = affordable_apps.groupby([\"affordability\", \"Category\"]).mean()[['Price']]\n",
    "category_mean"
   ]
  },
  {
   "cell_type": "code",
   "execution_count": 76,
   "id": "337f751d",
   "metadata": {},
   "outputs": [],
   "source": [
    "def label_category(row):\n",
    "    \"\"\"For each segment in `category_mean`,\n",
    "    labels the apps that cost less than its segment's mean with `1`\n",
    "    and the others with `0`.\"\"\"\n",
    "\n",
    "    aff = row[\"affordability\"]\n",
    "    cat = row[\"Category\"]\n",
    "    price = row[\"Price\"]\n",
    "\n",
    "    if price < category_mean.loc[(aff, cat)][0]:\n",
    "        return 1\n",
    "    else:\n",
    "        return 0\n",
    "\n",
    "affordable_apps[\"category_criterion\"] = affordable_apps.apply(\n",
    "    label_category, axis=\"columns\"\n",
    ")"
   ]
  },
  {
   "cell_type": "markdown",
   "id": "3618b4a4",
   "metadata": {},
   "source": [
    "## Results and Impact"
   ]
  },
  {
   "cell_type": "markdown",
   "id": "71c5c58f",
   "metadata": {},
   "source": [
    "**We now have three binary criteria to helps decide whether or not an app's price should increase, We can use a technique called majority voting, in which we decide whether an app's price should increase based on all criteria.\n",
    "Let's create a column in affordable_apps that takes the value of 1 when the majority is 1 and the value of 0 when the majority is 0.**"
   ]
  },
  {
   "cell_type": "code",
   "execution_count": 77,
   "id": "3a2798a7",
   "metadata": {},
   "outputs": [
    {
     "data": {
      "text/html": [
       "<div>\n",
       "<style scoped>\n",
       "    .dataframe tbody tr th:only-of-type {\n",
       "        vertical-align: middle;\n",
       "    }\n",
       "\n",
       "    .dataframe tbody tr th {\n",
       "        vertical-align: top;\n",
       "    }\n",
       "\n",
       "    .dataframe thead th {\n",
       "        text-align: right;\n",
       "    }\n",
       "</style>\n",
       "<table border=\"1\" class=\"dataframe\">\n",
       "  <thead>\n",
       "    <tr style=\"text-align: right;\">\n",
       "      <th></th>\n",
       "      <th>App</th>\n",
       "      <th>Category</th>\n",
       "      <th>Rating</th>\n",
       "      <th>Reviews</th>\n",
       "      <th>Size</th>\n",
       "      <th>Installs</th>\n",
       "      <th>Price</th>\n",
       "      <th>Content Rating</th>\n",
       "      <th>Genres</th>\n",
       "      <th>Last Updated</th>\n",
       "      <th>Current Ver</th>\n",
       "      <th>Android Ver</th>\n",
       "      <th>affordability</th>\n",
       "      <th>price_criterion</th>\n",
       "      <th>genre_count</th>\n",
       "      <th>genre_criterion</th>\n",
       "      <th>category_criterion</th>\n",
       "      <th>Result</th>\n",
       "    </tr>\n",
       "  </thead>\n",
       "  <tbody>\n",
       "    <tr>\n",
       "      <th>81</th>\n",
       "      <td>Tiny Scanner Pro: PDF Doc Scan</td>\n",
       "      <td>BUSINESS</td>\n",
       "      <td>4.8</td>\n",
       "      <td>10295</td>\n",
       "      <td>39.0</td>\n",
       "      <td>100,000+</td>\n",
       "      <td>4.99</td>\n",
       "      <td>Everyone</td>\n",
       "      <td>Business</td>\n",
       "      <td>April 11, 2017</td>\n",
       "      <td>3.4.6</td>\n",
       "      <td>3.0 and up</td>\n",
       "      <td>cheap</td>\n",
       "      <td>0.0</td>\n",
       "      <td>1</td>\n",
       "      <td>0</td>\n",
       "      <td>0</td>\n",
       "      <td>0.0</td>\n",
       "    </tr>\n",
       "    <tr>\n",
       "      <th>738</th>\n",
       "      <td>Visualmed</td>\n",
       "      <td>MEDICAL</td>\n",
       "      <td>NaN</td>\n",
       "      <td>0</td>\n",
       "      <td>3.1</td>\n",
       "      <td>1+</td>\n",
       "      <td>2.99</td>\n",
       "      <td>Everyone</td>\n",
       "      <td>Medical</td>\n",
       "      <td>August 1, 2018</td>\n",
       "      <td>1.0</td>\n",
       "      <td>4.1 and up</td>\n",
       "      <td>cheap</td>\n",
       "      <td>0.0</td>\n",
       "      <td>1</td>\n",
       "      <td>0</td>\n",
       "      <td>0</td>\n",
       "      <td>0.0</td>\n",
       "    </tr>\n",
       "    <tr>\n",
       "      <th>554</th>\n",
       "      <td>Jetting for Honda CR dirt bike</td>\n",
       "      <td>SPORTS</td>\n",
       "      <td>4.1</td>\n",
       "      <td>7</td>\n",
       "      <td>3.4</td>\n",
       "      <td>100+</td>\n",
       "      <td>3.49</td>\n",
       "      <td>Everyone</td>\n",
       "      <td>Sports</td>\n",
       "      <td>April 13, 2016</td>\n",
       "      <td>2.2</td>\n",
       "      <td>3.0 and up</td>\n",
       "      <td>cheap</td>\n",
       "      <td>0.0</td>\n",
       "      <td>1</td>\n",
       "      <td>0</td>\n",
       "      <td>0</td>\n",
       "      <td>0.0</td>\n",
       "    </tr>\n",
       "    <tr>\n",
       "      <th>240</th>\n",
       "      <td>Acupuncture Assistant</td>\n",
       "      <td>MEDICAL</td>\n",
       "      <td>4.5</td>\n",
       "      <td>492</td>\n",
       "      <td>39.0</td>\n",
       "      <td>10,000+</td>\n",
       "      <td>7.99</td>\n",
       "      <td>Everyone</td>\n",
       "      <td>Medical</td>\n",
       "      <td>April 13, 2018</td>\n",
       "      <td>4.4.5</td>\n",
       "      <td>4.1 and up</td>\n",
       "      <td>reasonable</td>\n",
       "      <td>1.0</td>\n",
       "      <td>1</td>\n",
       "      <td>1</td>\n",
       "      <td>1</td>\n",
       "      <td>1.0</td>\n",
       "    </tr>\n",
       "    <tr>\n",
       "      <th>362</th>\n",
       "      <td>Officiel du SCRABBLE LAROUSSE</td>\n",
       "      <td>BOOKS_AND_REFERENCE</td>\n",
       "      <td>3.4</td>\n",
       "      <td>116</td>\n",
       "      <td>48.0</td>\n",
       "      <td>5,000+</td>\n",
       "      <td>4.60</td>\n",
       "      <td>Everyone</td>\n",
       "      <td>Books &amp; Reference</td>\n",
       "      <td>October 13, 2016</td>\n",
       "      <td>1.4</td>\n",
       "      <td>2.3 and up</td>\n",
       "      <td>cheap</td>\n",
       "      <td>0.0</td>\n",
       "      <td>1</td>\n",
       "      <td>0</td>\n",
       "      <td>0</td>\n",
       "      <td>0.0</td>\n",
       "    </tr>\n",
       "  </tbody>\n",
       "</table>\n",
       "</div>"
      ],
      "text/plain": [
       "                                App             Category  Rating  Reviews  \\\n",
       "81   Tiny Scanner Pro: PDF Doc Scan             BUSINESS     4.8    10295   \n",
       "738                       Visualmed              MEDICAL     NaN        0   \n",
       "554  Jetting for Honda CR dirt bike               SPORTS     4.1        7   \n",
       "240           Acupuncture Assistant              MEDICAL     4.5      492   \n",
       "362   Officiel du SCRABBLE LAROUSSE  BOOKS_AND_REFERENCE     3.4      116   \n",
       "\n",
       "     Size  Installs  Price Content Rating             Genres  \\\n",
       "81   39.0  100,000+   4.99       Everyone           Business   \n",
       "738   3.1        1+   2.99       Everyone            Medical   \n",
       "554   3.4      100+   3.49       Everyone             Sports   \n",
       "240  39.0   10,000+   7.99       Everyone            Medical   \n",
       "362  48.0    5,000+   4.60       Everyone  Books & Reference   \n",
       "\n",
       "         Last Updated Current Ver Android Ver affordability  price_criterion  \\\n",
       "81     April 11, 2017       3.4.6  3.0 and up         cheap              0.0   \n",
       "738    August 1, 2018         1.0  4.1 and up         cheap              0.0   \n",
       "554    April 13, 2016         2.2  3.0 and up         cheap              0.0   \n",
       "240    April 13, 2018       4.4.5  4.1 and up    reasonable              1.0   \n",
       "362  October 13, 2016         1.4  2.3 and up         cheap              0.0   \n",
       "\n",
       "     genre_count  genre_criterion  category_criterion  Result  \n",
       "81             1                0                   0     0.0  \n",
       "738            1                0                   0     0.0  \n",
       "554            1                0                   0     0.0  \n",
       "240            1                1                   1     1.0  \n",
       "362            1                0                   0     0.0  "
      ]
     },
     "execution_count": 77,
     "metadata": {},
     "output_type": "execute_result"
    }
   ],
   "source": [
    "criteria = [\"price_criterion\", \"genre_criterion\", \"category_criterion\"]\n",
    "affordable_apps[\"Result\"] = affordable_apps[criteria].mode(axis='columns')\n",
    "\n",
    "affordable_apps.sample(5)"
   ]
  },
  {
   "cell_type": "markdown",
   "id": "7d7c9b19",
   "metadata": {},
   "source": [
    " Let's see how many apps are eligible for a price increase:"
   ]
  },
  {
   "cell_type": "code",
   "execution_count": 79,
   "id": "b6b9a6b7",
   "metadata": {},
   "outputs": [
    {
     "name": "stdout",
     "output_type": "stream",
     "text": [
      "401.0\n",
      "54.70668485675307\n"
     ]
    }
   ],
   "source": [
    "nr_eligible = affordable_apps[\"Result\"].sum()\n",
    "print(nr_eligible, nr_eligible/affordable_apps.shape[0] * 100, sep=\"\\n\")"
   ]
  },
  {
   "cell_type": "markdown",
   "id": "83b8240b",
   "metadata": {},
   "source": [
    "**We can see that 401 apps - approximately 55% are elligible for price increae. This is a significant number, and we consider the possibility that increasing the price for these apps will have a significant impact.\n",
    "In an ideal world, we'd have the data for how many times each app was bought, but we don't.\n",
    "We could potentially fall back on the number of installations as a proxy for this, but unfortunately, our Installs column just gives us ranges and not exact numbers.\n",
    "In any case, given the lack of options, we'll fall back on this obviously faulty proxy in order to estimate the impact.**\n",
    "\n",
    "**The lack of data also makes it hard to decide what the optimal price for each app is(although it's not the main goal of this prototype).  Instead, we'll use the mean price of the affordability of the eligible apps when it is higher than the current price, or we use the max price in each segment.**"
   ]
  },
  {
   "cell_type": "code",
   "execution_count": 80,
   "id": "85466d0e",
   "metadata": {},
   "outputs": [
    {
     "name": "stdout",
     "output_type": "stream",
     "text": [
      "115441618.98\n"
     ]
    },
    {
     "name": "stderr",
     "output_type": "stream",
     "text": [
      "C:\\Users\\user\\AppData\\Local\\Temp\\ipykernel_17348\\4031261359.py:9: FutureWarning: The default value of regex will change from True to False in a future version.\n",
      "  affordable_apps[\"Installs\"] = affordable_apps[\"Installs\"].str.replace(\"[+,]\", \"\").astype(int)\n"
     ]
    }
   ],
   "source": [
    "def new_price(row):\n",
    "    if row[\"affordability\"] == \"cheap\":\n",
    "        return round(max(row[\"Price\"], cheap_mean), 2)\n",
    "    else:\n",
    "        return round(max(row[\"Price\"], reasonable_mean), 2)\n",
    "    \n",
    "affordable_apps[\"New Price\"] = affordable_apps.apply(new_price, axis=\"columns\")\n",
    "\n",
    "affordable_apps[\"Installs\"] = affordable_apps[\"Installs\"].str.replace(\"[+,]\", \"\").astype(int)\n",
    "\n",
    "affordable_apps[\"Impact\"] = (affordable_apps[\"New Price\"]-affordable_apps[\"Price\"])*affordable_apps[\"Installs\"]\n",
    "\n",
    "total_impact = affordable_apps[\"Impact\"].sum()\n",
    "print(total_impact)"
   ]
  },
  {
   "cell_type": "markdown",
   "id": "4991b1fb",
   "metadata": {},
   "source": [
    "**We computed the minimum estimated impact. Minimum because the number of installations represents the low end of the range — it's not the actual number of installations.\n",
    "Our result was north of $115 million! This is too optimistic, especially considering that people can install the app, use the freeware version and not pay at all.**"
   ]
  },
  {
   "cell_type": "code",
   "execution_count": null,
   "id": "2b5e2dad",
   "metadata": {},
   "outputs": [],
   "source": []
  }
 ],
 "metadata": {
  "kernelspec": {
   "display_name": "Python 3 (ipykernel)",
   "language": "python",
   "name": "python3"
  },
  "language_info": {
   "codemirror_mode": {
    "name": "ipython",
    "version": 3
   },
   "file_extension": ".py",
   "mimetype": "text/x-python",
   "name": "python",
   "nbconvert_exporter": "python",
   "pygments_lexer": "ipython3",
   "version": "3.9.13"
  }
 },
 "nbformat": 4,
 "nbformat_minor": 5
}
